{
 "cells": [
  {
   "cell_type": "code",
   "execution_count": 1,
   "metadata": {
    "_cell_guid": "b1076dfc-b9ad-4769-8c92-a6c4dae69d19",
    "_uuid": "8f2839f25d086af736a60e9eeb907d3b93b6e0e5"
   },
   "outputs": [],
   "source": [
    "# This Python 3 environment comes with many helpful analytics libraries installed\n",
    "# It is defined by the kaggle/python docker image: https://github.com/kaggle/docker-python\n",
    "# For example, here's several helpful packages to load in \n",
    "\n",
    "import numpy as np # linear algebra\n",
    "import pandas as pd # data processing, CSV file I/O (e.g. pd.read_csv)\n",
    "\n",
    "# Input data files are available in the \"../input/\" directory.\n",
    "# For example, running this (by clicking run or pressing Shift+Enter) will list the files in the input directory\n",
    "\n",
    "\n",
    "# Any results you write to the current directory are saved as output."
   ]
  },
  {
   "cell_type": "code",
   "execution_count": 2,
   "metadata": {
    "_uuid": "34fb741039e1ecf62427aaaa9ce3b2ed5bfca2d7"
   },
   "outputs": [],
   "source": [
    "#from plotly.offline import init_notebook_mode, iplot\n",
    "#import plotly.graph_objs as go\n",
    "#import plotly.plotly as py\n",
    "#from plotly import tools\n",
    "#from datetime import datea\n",
    "import pandas as pd\n",
    "import numpy as np\n",
    "#import plotly.figure_factory as ff\n",
    "import matplotlib.pyplot as plt\n",
    "import seaborn as sns"
   ]
  },
  {
   "cell_type": "code",
   "execution_count": 16,
   "metadata": {
    "_cell_guid": "79c7e3d0-c299-4dcb-8224-4455121ee9b0",
    "_uuid": "d629ff2d2480ee46fbb7e2d37f6b5fab8052498a"
   },
   "outputs": [],
   "source": [
    "\n",
    "\n",
    "df = pd.read_csv('train1.csv')\n",
    "test = pd.read_csv('test1.csv')\n",
    "\n",
    "numeric_categorical_field_indicator_prefix = []\n",
    "numeric_categorical_field_indicator_suffix = ['Code','Type']\n",
    "\n",
    "non_include_columns = []\n",
    "target_column = ['AsdLand-1']"
   ]
  },
  {
   "cell_type": "code",
   "execution_count": 4,
   "metadata": {
    "scrolled": true
   },
   "outputs": [
    {
     "name": "stdout",
     "output_type": "stream",
     "text": [
      "Empty DataFrame\n",
      "Columns: [Column Name, numvalues, Exclude]\n",
      "Index: []\n",
      "[]\n"
     ]
    }
   ],
   "source": [
    "### manage text, identify categoricals\n",
    "\n",
    "df_text =df.select_dtypes(exclude=[np.number])  # find all cols with text data\n",
    "\n",
    "\n",
    "def count_of_distinct_values (dataframe):\n",
    "    item_counts = []\n",
    "    for item in dataframe:\n",
    "\n",
    "        item_counts.append([item,dataframe[item].nunique()]) # identify all distinct text cols\n",
    "\n",
    "    df_returned = pd.DataFrame(item_counts, columns = ['Column Name','numvalues']).sort_values(by=['numvalues'])\n",
    "    return df_returned\n",
    "\n",
    "df_text_to_col = count_of_distinct_values (df_text)\n",
    "\n",
    "### set \n",
    "df_text_to_col ['Exclude']= 'N'\n",
    "df_text_to_col ['Exclude'][df_text_to_col ['numvalues']<2.0]='Y'\n",
    "df_text_to_col ['Exclude'][df_text_to_col ['numvalues']>100.0]='Y'\n",
    "print (df_text_to_col)\n",
    "text_categorical_features_to_use = df_text_to_col['Column Name'].unique().tolist()\n",
    "\n",
    "print (text_categorical_features_to_use)\n",
    "\n"
   ]
  },
  {
   "cell_type": "code",
   "execution_count": 5,
   "metadata": {},
   "outputs": [
    {
     "name": "stdout",
     "output_type": "stream",
     "text": [
      "['LocationalDep', 'Area', 'ResModelCode', 'HalfBaths', 'LivingAreaTotal', 'LevelTo', 'FullBaths', 'FramingType', 'BsmtAreaFinished', 'ResStoriesCode', 'ComStoriesCode', 'BsmtAreaUnfin', 'RoomArea', '0', 'FunctionalDep', 'RoofConst1', 'TotApts', 'NbrOfApts1Br', 'BldgNum', 'NbrOfApts2Br', '2.7', '2.2', 'StoryHeight', '2.5', 'BsmtAreaPartial', 'FoundationType', 'GroundFloorArea', 'BsmtFinishType', 'RoofConst3', '2.1', '2.6', 'YearBuilt', '0.4', '0.5', '0.2', '2', '1.6', 'ResExtWallType', '0.1', '3', 'ResOccType', 'ExtWallType', 'SectNum', 'NbrOfAptsEff', '1.5', '0.8', 'BldgType', 'NbrOfApts3Br', 'NbrOfAptsOther', '1.3', 'SectType', 'RoofConst4', 'EffectiveYearBuilt', '1.1', '0.9', 'BsmtStoryHeight', 'BsmtGarageArea', 'BsmtType', 'RoofConst2', 'BsmtNbrOfStories', 'RoofType', 'LivingAreaUpDown', '1', 'LivingAreaAtGrade']\n",
      "true int list\n",
      "numeric cat list\n"
     ]
    },
    {
     "data": {
      "text/plain": [
       "(None,\n",
       " ['ResModelCode',\n",
       "  'FramingType',\n",
       "  'ResStoriesCode',\n",
       "  'ComStoriesCode',\n",
       "  'FoundationType',\n",
       "  'BsmtFinishType',\n",
       "  'ResExtWallType',\n",
       "  'ResOccType',\n",
       "  'ExtWallType',\n",
       "  'BldgType',\n",
       "  'SectType',\n",
       "  'BsmtType',\n",
       "  'RoofType'])"
      ]
     },
     "execution_count": 5,
     "metadata": {},
     "output_type": "execute_result"
    }
   ],
   "source": [
    "## distinguish between float, boolean, and int.  Int will need to be considered to determine if coded or not\n",
    "bool_cols = [col for col in df if np.isin(df[col].dropna().unique(), [0., 1.,]).all()]\n",
    "df_numeric = df.select_dtypes(include=[np.float])\n",
    "\n",
    "\n",
    "df_true_numeric = []\n",
    "for item in df_numeric:\n",
    "    if item not in bool_cols:\n",
    "        df_true_numeric.append (item)\n",
    "        \n",
    "#print (bool_cols)\n",
    "#print (df_true_numeric)\n",
    "\n",
    "\n",
    "true_float= []\n",
    "true_int = []\n",
    "for item in df_true_numeric:\n",
    "\n",
    "    if all(x.is_integer() for x in df.dropna()[item]) == True:\n",
    "    \n",
    "        true_int.append(item)\n",
    "        \n",
    "    else:\n",
    "        true_float.append[item]\n",
    "\n",
    "#print (true_float)\n",
    "print (true_int)\n",
    "numerical_categorical_fields = []\n",
    "for item in true_int:\n",
    "    for suffix in numeric_categorical_field_indicator_suffix:\n",
    "        if item.endswith(suffix):\n",
    "            numerical_categorical_fields.append(item)\n",
    "          \n",
    "        else:\n",
    "            continue\n",
    "for item in numerical_categorical_fields:\n",
    "        true_int.remove(item)\n",
    "print (\"true int list\"), true_int\n",
    "print (\"numeric cat list\"), numerical_categorical_fields"
   ]
  },
  {
   "cell_type": "code",
   "execution_count": 6,
   "metadata": {},
   "outputs": [
    {
     "name": "stdout",
     "output_type": "stream",
     "text": [
      "           Column Name  numvalues\n",
      "2            HalfBaths          8\n",
      "50   LivingAreaAtGrade          9\n",
      "40          RoofConst4          9\n",
      "22          RoofConst3          9\n",
      "5            FullBaths         10\n",
      "47    BsmtNbrOfStories         10\n",
      "11          RoofConst1         11\n",
      "46          RoofConst2         11\n",
      "33             SectNum         14\n",
      "48    LivingAreaUpDown         16\n",
      "9                    0         23\n",
      "37        NbrOfApts3Br         24\n",
      "44     BsmtStoryHeight         24\n",
      "4              LevelTo         30\n",
      "10       FunctionalDep         31\n",
      "38      NbrOfAptsOther         41\n",
      "34        NbrOfAptsEff         57\n",
      "18         StoryHeight         57\n",
      "14             BldgNum         59\n",
      "15        NbrOfApts2Br         69\n",
      "32                   3         85\n",
      "45      BsmtGarageArea         91\n",
      "13        NbrOfApts1Br         92\n",
      "31                 0.1        122\n",
      "12             TotApts        146\n",
      "16                 2.7        160\n",
      "0        LocationalDep        172\n",
      "24                 2.6        174\n",
      "19                 2.5        181\n",
      "25           YearBuilt        181\n",
      "41  EffectiveYearBuilt        183\n",
      "17                 2.2        195\n",
      "23                 2.1        197\n",
      "28                 0.2        200\n",
      "29                   2        217\n",
      "39                 1.3        246\n",
      "49                   1        268\n",
      "43                 0.9        277\n",
      "35                 1.5        279\n",
      "42                 1.1        284\n",
      "30                 1.6        288\n",
      "26                 0.4        327\n",
      "36                 0.8        332\n",
      "27                 0.5        359\n",
      "8             RoomArea        645\n",
      "20     BsmtAreaPartial        785\n",
      "6     BsmtAreaFinished       1135\n",
      "7        BsmtAreaUnfin       2069\n",
      "3      LivingAreaTotal       4054\n",
      "21     GroundFloorArea       4608\n",
      "1                 Area       5377\n"
     ]
    }
   ],
   "source": [
    "## run to analyze numeric categorical fields\n",
    "analyze_num = count_of_distinct_values (df_numeric[true_int])\n",
    "print (analyze_num)\n",
    "\n"
   ]
  },
  {
   "cell_type": "code",
   "execution_count": 7,
   "metadata": {},
   "outputs": [],
   "source": [
    "categorical_features_to_use = text_categorical_features_to_use \n",
    "categorical_features_to_use.extend(numerical_categorical_fields)"
   ]
  },
  {
   "cell_type": "code",
   "execution_count": 8,
   "metadata": {},
   "outputs": [],
   "source": [
    "def feature_engineer(input_df):\n",
    "    \n",
    "  \n",
    "\n",
    "    return input_df\n"
   ]
  },
  {
   "cell_type": "code",
   "execution_count": 9,
   "metadata": {},
   "outputs": [
    {
     "name": "stdout",
     "output_type": "stream",
     "text": [
      "['ResModelCode', 'FramingType', 'ResStoriesCode', 'ComStoriesCode', 'FoundationType', 'BsmtFinishType', 'ResExtWallType', 'ResOccType', 'ExtWallType', 'BldgType', 'SectType', 'BsmtType', 'RoofType']\n"
     ]
    }
   ],
   "source": [
    "print (categorical_features_to_use)"
   ]
  },
  {
   "cell_type": "code",
   "execution_count": 10,
   "metadata": {},
   "outputs": [],
   "source": [
    "\n",
    "def model_data_prep (input_dataframe, categorical_features):\n",
    "    dataframe_nas = input_dataframe.fillna(0).reset_index(drop=True)\n",
    "    dataframe_dummies =  pd.get_dummies(dataframe_nas, columns = categorical_features) ## convert \n",
    "    \n",
    "    return dataframe_nas"
   ]
  },
  {
   "cell_type": "code",
   "execution_count": 11,
   "metadata": {
    "_uuid": "30d2dc5cdf8d911600b902629c243da81e6355ed"
   },
   "outputs": [],
   "source": [
    "#train = train[train['parentesco1']==1]\n",
    "train_columns=[]\n",
    "all_columns=  list(df)\n",
    "for column in all_columns:\n",
    "    if column not in non_include_columns and column not in categorical_features_to_use and column not in target_column:\n",
    "        train_columns.append(column)\n",
    "        \n",
    "dataframe_transformed_train = model_data_prep(df, categorical_features_to_use)\n",
    "dataframe_transformed_test  = model_data_prep(test , categorical_features_to_use)\n"
   ]
  }
 ],
 "metadata": {
  "kernelspec": {
   "display_name": "Python 3",
   "language": "python",
   "name": "python3"
  },
  "language_info": {
   "codemirror_mode": {
    "name": "ipython",
    "version": 3
   },
   "file_extension": ".py",
   "mimetype": "text/x-python",
   "name": "python",
   "nbconvert_exporter": "python",
   "pygments_lexer": "ipython3",
   "version": "3.7.3"
  }
 },
 "nbformat": 4,
 "nbformat_minor": 1
}
